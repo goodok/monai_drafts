{
 "cells": [
  {
   "cell_type": "markdown",
   "metadata": {},
   "source": [
    "# Integrate 3rd party transforms into a MONAI program\n",
    "\n",
    "This tutorial shows how to integrate 3rd party transforms into a MONAI program.  \n",
    "Mainly showing transforms from `BatchGenerator`, `TorchIO`, `Rising` and `ITK`.\n",
    "\n",
    "[![Open In Colab](https://colab.research.google.com/assets/colab-badge.svg)](https://colab.research.google.com/github/Project-MONAI/tutorials/blob/master/modules/integrate_3rd_party_transforms.ipynb)"
   ]
  },
  {
   "cell_type": "markdown",
   "metadata": {},
   "source": [
    "## Setup environment"
   ]
  },
  {
   "cell_type": "code",
   "execution_count": 1,
   "metadata": {
    "tags": []
   },
   "outputs": [
    {
     "name": "stdout",
     "output_type": "stream",
     "text": [
      "Note: you may need to restart the kernel to use updated packages.\n"
     ]
    }
   ],
   "source": [
    "# %pip install -q \"monai[gdown]\""
   ]
  },
  {
   "cell_type": "code",
   "execution_count": 2,
   "metadata": {
    "tags": []
   },
   "outputs": [
    {
     "name": "stdout",
     "output_type": "stream",
     "text": [
      "Note: you may need to restart the kernel to use updated packages.\n"
     ]
    }
   ],
   "source": [
    "# %pip install -q matplotlib\n",
    "# %matplotlib inline"
   ]
  },
  {
   "cell_type": "code",
   "execution_count": 1,
   "metadata": {
    "tags": []
   },
   "outputs": [
    {
     "name": "stdout",
     "output_type": "stream",
     "text": [
      "Note: you may need to restart the kernel to use updated packages.\n"
     ]
    }
   ],
   "source": [
    "%pip install -q batchgenerators==0.20.1"
   ]
  },
  {
   "cell_type": "code",
   "execution_count": 2,
   "metadata": {
    "tags": []
   },
   "outputs": [
    {
     "name": "stdout",
     "output_type": "stream",
     "text": [
      "Note: you may need to restart the kernel to use updated packages.\n"
     ]
    }
   ],
   "source": [
    "%pip install -q itk==5.1.0"
   ]
  },
  {
   "cell_type": "code",
   "execution_count": 3,
   "metadata": {
    "tags": []
   },
   "outputs": [
    {
     "name": "stdout",
     "output_type": "stream",
     "text": [
      "Note: you may need to restart the kernel to use updated packages.\n"
     ]
    }
   ],
   "source": [
    "%pip install -q rising==0.2.0"
   ]
  },
  {
   "cell_type": "code",
   "execution_count": 4,
   "metadata": {
    "tags": []
   },
   "outputs": [
    {
     "name": "stdout",
     "output_type": "stream",
     "text": [
      "Note: you may need to restart the kernel to use updated packages.\n"
     ]
    }
   ],
   "source": [
    "%pip install -q torchio==0.17.21"
   ]
  },
  {
   "cell_type": "markdown",
   "metadata": {},
   "source": [
    "## Setup imports"
   ]
  },
  {
   "cell_type": "code",
   "execution_count": 5,
   "metadata": {
    "tags": []
   },
   "outputs": [
    {
     "name": "stderr",
     "output_type": "stream",
     "text": [
      "unclosed file <_io.BufferedReader name='/home/.virtualenvs/transforms_templates/lib/python3.7/site-packages/torchvision/_C.so'>\n"
     ]
    },
    {
     "name": "stdout",
     "output_type": "stream",
     "text": [
      "If you use TorchIO for your research, please cite the following paper:\n",
      "Pérez-García et al., TorchIO: a Python library for efficient loading,\n",
      "preprocessing, augmentation and patch-based sampling of medical images\n",
      "in deep learning. Link: https://arxiv.org/abs/2003.04696\n",
      "\n",
      "MONAI version: 0.3.0\n",
      "Python version: 3.7.5 (default, Apr 19 2020, 20:18:17)  [GCC 9.2.1 20191008]\n",
      "OS version: Linux (5.3.0-64-generic)\n",
      "Numpy version: 1.19.2\n",
      "Pytorch version: 1.4.0\n",
      "MONAI flags: HAS_EXT = True, USE_COMPILED = False\n",
      "\n",
      "Optional dependencies:\n",
      "Pytorch Ignite version: NOT INSTALLED or UNKNOWN VERSION.\n",
      "Nibabel version: 3.1.1\n",
      "scikit-image version: 0.17.2\n",
      "Pillow version: 7.0.0\n",
      "Tensorboard version: NOT INSTALLED or UNKNOWN VERSION.\n",
      "gdown version: 3.12.2\n",
      "TorchVision version: 0.5.0\n",
      "ITK version: 5.1.0\n",
      "tqdm version: 4.50.2\n",
      "\n",
      "For details about installing the optional dependencies, please visit:\n",
      "    https://docs.monai.io/en/latest/installation.html#installing-the-recommended-dependencies\n",
      "\n"
     ]
    }
   ],
   "source": [
    "# Copyright 2020 MONAI Consortium\n",
    "# Licensed under the Apache License, Version 2.0 (the \"License\");\n",
    "# you may not use this file except in compliance with the License.\n",
    "# You may obtain a copy of the License at\n",
    "#     http://www.apache.org/licenses/LICENSE-2.0\n",
    "# Unless required by applicable law or agreed to in writing, software\n",
    "# distributed under the License is distributed on an \"AS IS\" BASIS,\n",
    "# WITHOUT WARRANTIES OR CONDITIONS OF ANY KIND, either express or implied.\n",
    "# See the License for the specific language governing permissions and\n",
    "# limitations under the License.\n",
    "\n",
    "import glob\n",
    "import os\n",
    "import shutil\n",
    "import tempfile\n",
    "\n",
    "import batchgenerators\n",
    "import itk\n",
    "import matplotlib.pyplot as plt\n",
    "import numpy as np\n",
    "import rising.random\n",
    "import rising.transforms\n",
    "import torchio\n",
    "\n",
    "from monai.apps import download_and_extract\n",
    "from monai.config import print_config\n",
    "from monai.data import DataLoader, Dataset\n",
    "from monai.transforms import (\n",
    "    AddChanneld,\n",
    "    Compose,\n",
    "    CropForegroundd,\n",
    "    LoadNiftid,\n",
    "    Orientationd,\n",
    "    ScaleIntensityRanged,\n",
    "    Spacingd,\n",
    "    SqueezeDimd,\n",
    "    ToTensord,\n",
    "    adaptor,\n",
    ")\n",
    "from monai.utils import first, set_determinism\n",
    "\n",
    "print_config()"
   ]
  },
  {
   "cell_type": "markdown",
   "metadata": {},
   "source": [
    "## Setup data directory\n",
    "\n",
    "You can specify a directory with the `MONAI_DATA_DIRECTORY` environment variable.  \n",
    "This allows you to save results and reuse downloads.  \n",
    "If not specified a temporary directory will be used."
   ]
  },
  {
   "cell_type": "code",
   "execution_count": 6,
   "metadata": {},
   "outputs": [
    {
     "name": "stderr",
     "output_type": "stream",
     "text": [
      "`should_run_async` will not call `transform_cell` automatically in the future. Please pass the result to `transformed_cell` argument and any exception that happen during thetransform in `preprocessing_exc_tuple` in IPython 7.17 and above.\n"
     ]
    }
   ],
   "source": [
    "os.environ['MONAI_DATA_DIRECTORY'] = \"/media/Linux_4Tb/MONAI\""
   ]
  },
  {
   "cell_type": "code",
   "execution_count": 7,
   "metadata": {
    "tags": []
   },
   "outputs": [
    {
     "name": "stdout",
     "output_type": "stream",
     "text": [
      "/media/Linux_4Tb/MONAI\n"
     ]
    }
   ],
   "source": [
    "directory = os.environ.get(\"MONAI_DATA_DIRECTORY\")\n",
    "root_dir = tempfile.mkdtemp() if directory is None else directory\n",
    "print(root_dir)"
   ]
  },
  {
   "cell_type": "markdown",
   "metadata": {},
   "source": [
    "## Download dataset\n",
    "\n",
    "Downloads and extracts the dataset.  \n",
    "The dataset comes from http://medicaldecathlon.com/."
   ]
  },
  {
   "cell_type": "code",
   "execution_count": 8,
   "metadata": {
    "tags": []
   },
   "outputs": [],
   "source": [
    "resource = \"https://drive.google.com/uc?id=1jzeNU1EKnK81PyTsrx0ujfNl-t0Jo8uE\"\n",
    "md5 = \"410d4a301da4e5b2f6f86ec3ddba524e\"\n",
    "\n",
    "compressed_file = os.path.join(root_dir, \"Task09_Spleen.tar\")\n",
    "data_dir = os.path.join(root_dir, \"Task09_Spleen\")\n",
    "if not os.path.exists(data_dir):\n",
    "    download_and_extract(resource, compressed_file, root_dir, md5)"
   ]
  },
  {
   "cell_type": "markdown",
   "metadata": {},
   "source": [
    "## Set MSD Spleen dataset path"
   ]
  },
  {
   "cell_type": "code",
   "execution_count": 9,
   "metadata": {},
   "outputs": [],
   "source": [
    "train_images = sorted(glob.glob(os.path.join(data_dir, \"imagesTr\", \"*.nii.gz\")))\n",
    "train_labels = sorted(glob.glob(os.path.join(data_dir, \"labelsTr\", \"*.nii.gz\")))\n",
    "data_dicts = [\n",
    "    {\"image\": image_name, \"label\": label_name}\n",
    "    for image_name, label_name in zip(train_images, train_labels)\n",
    "]"
   ]
  },
  {
   "cell_type": "markdown",
   "metadata": {},
   "source": [
    "## Set deterministic training for reproducibility"
   ]
  },
  {
   "cell_type": "code",
   "execution_count": 10,
   "metadata": {},
   "outputs": [],
   "source": [
    "set_determinism(seed=0)"
   ]
  },
  {
   "cell_type": "markdown",
   "metadata": {},
   "source": [
    "## Setup MONAI transforms"
   ]
  },
  {
   "cell_type": "code",
   "execution_count": 11,
   "metadata": {},
   "outputs": [],
   "source": [
    "monai_transforms = [\n",
    "    LoadNiftid(keys=[\"image\", \"label\"]),\n",
    "    AddChanneld(keys=[\"image\", \"label\"]),\n",
    "    Spacingd(keys=[\"image\", \"label\"], pixdim=(1.5, 1.5, 2.0), mode=(\"bilinear\", \"nearest\")),\n",
    "    Orientationd(keys=[\"image\", \"label\"], axcodes=\"RAS\"),\n",
    "    ScaleIntensityRanged(keys=[\"image\"], a_min=-57, a_max=164, b_min=0.0, b_max=1.0, clip=True),\n",
    "    CropForegroundd(keys=[\"image\", \"label\"], source_key=\"image\"),\n",
    "]"
   ]
  },
  {
   "cell_type": "markdown",
   "metadata": {},
   "source": [
    "## Setup BatchGenerator transforms\n",
    "\n",
    "Note:\n",
    "1. BatchGenerator requires the arg is `**data`, can't compose with MONAI transforms directly, need `adaptor`.\n",
    "1. BatchGenerator requires data shape is [B, C, H, W, D], MONAI requires [C, H, W, D]."
   ]
  },
  {
   "cell_type": "code",
   "execution_count": 12,
   "metadata": {},
   "outputs": [],
   "source": [
    "batch_generator_transforms = batchgenerators.transforms.color_transforms.ContrastAugmentationTransform(\n",
    "    data_key=\"image\"\n",
    ")"
   ]
  },
  {
   "cell_type": "markdown",
   "metadata": {},
   "source": [
    "## Setup TorchIO transforms\n",
    "\n",
    "Note:\n",
    "1. The TorchIO transforms can support MONAI dict input data directly.\n",
    "1. It can handle PyTorch Tensor data(shape: [C, H, W, D]), so used it to handle Tensor in this tutorial."
   ]
  },
  {
   "cell_type": "code",
   "execution_count": 13,
   "metadata": {},
   "outputs": [],
   "source": [
    "torchio_transforms = torchio.transforms.RescaleIntensity(\n",
    "    out_min_max=(0.0, 1.0), percentiles=(0.05, 99.5), keys=[\"image\"]\n",
    ")"
   ]
  },
  {
   "cell_type": "markdown",
   "metadata": {},
   "source": [
    "## Setup Rising transforms\n",
    "\n",
    "Note:\n",
    "1. Rising inherits from PyTorch `nn.Module`, expected input data type is PyTorch Tensor, so can only work after `ToTensor`.\n",
    "1. Rising requires data shape is [B, C, H, W, D], MONAI requires [C, H, W, D].\n",
    "1. Rising requires the arg is `**data`, need `adaptor`."
   ]
  },
  {
   "cell_type": "code",
   "execution_count": 14,
   "metadata": {},
   "outputs": [],
   "source": [
    "rising_transforms = rising.transforms.Mirror(\n",
    "    dims=rising.random.DiscreteParameter((0, 1, 2)), keys=[\"image\", \"label\"]\n",
    ")"
   ]
  },
  {
   "cell_type": "markdown",
   "metadata": {},
   "source": [
    "## Setup ITK transforms\n",
    "\n",
    "Note:\n",
    "1. ITK transform function API has several args(not only `data`), need to set args in wrapper before Compose.\n",
    "1. If input data is Numpy, ITK can't support dict type, need wrapper to convert the format.\n",
    "1. ITK expects input shape [H, W, [D]], so handle every channel and stack the results."
   ]
  },
  {
   "cell_type": "code",
   "execution_count": 15,
   "metadata": {},
   "outputs": [],
   "source": [
    "def itk_transforms(x):\n",
    "    smoothed = list()\n",
    "    for channel in x[\"image\"]:\n",
    "        smoothed.append(itk.median_image_filter(channel, radius=2))\n",
    "    x[\"image\"] = np.stack(smoothed)\n",
    "    return x"
   ]
  },
  {
   "cell_type": "markdown",
   "metadata": {},
   "source": [
    "## Compose all transforms"
   ]
  },
  {
   "cell_type": "code",
   "execution_count": 16,
   "metadata": {},
   "outputs": [],
   "source": [
    "transform = Compose(\n",
    "    monai_transforms\n",
    "    + [\n",
    "        itk_transforms,\n",
    "        # add another dim as BatchGenerator and Rising expects shape [B, C, H, W, D]\n",
    "        AddChanneld(keys=[\"image\", \"label\"]),\n",
    "        adaptor(batch_generator_transforms, {\"image\": \"image\"}),\n",
    "        ToTensord(keys=[\"image\", \"label\"]),\n",
    "        adaptor(rising_transforms, {\"image\": \"image\", \"label\": \"label\"}),\n",
    "        # squeeze shape from [B, C, H, W, D] to [C, H, W, D] for TorchIO transforms\n",
    "        SqueezeDimd(keys=[\"image\", \"label\"], dim=0),\n",
    "        torchio_transforms,\n",
    "    ]\n",
    ")"
   ]
  },
  {
   "cell_type": "markdown",
   "metadata": {},
   "source": [
    "## Check transforms in DataLoader"
   ]
  },
  {
   "cell_type": "code",
   "execution_count": 21,
   "metadata": {
    "tags": []
   },
   "outputs": [
    {
     "name": "stdout",
     "output_type": "stream",
     "text": [
      "image shape: torch.Size([329, 282, 136]), label shape: torch.Size([329, 282, 136])\n"
     ]
    },
    {
     "data": {
      "image/png": "[encoded data removed]",
      "text/plain": [
       "<Figure size 864x432 with 2 Axes>"
      ]
     },
     "metadata": {
      "needs_background": "light"
     },
     "output_type": "display_data"
    }
   ],
   "source": [
    "check_ds = Dataset(data=data_dicts, transform=transform)\n",
    "check_loader = DataLoader(check_ds, batch_size=1)\n",
    "check_data = first(check_loader)\n",
    "image, label = (check_data[\"image\"][0][0], check_data[\"label\"][0][0])\n",
    "print(f\"image shape: {image.shape}, label shape: {label.shape}\")\n",
    "# plot the slice [:, :, 80]\n",
    "plt.figure(\"check\", (12, 6))\n",
    "plt.subplot(1, 2, 1)\n",
    "plt.title(\"image\")\n",
    "plt.imshow(image[:, :, 80], cmap=\"gray\")\n",
    "plt.subplot(1, 2, 2)\n",
    "plt.title(\"label\")\n",
    "plt.imshow(label[:, :, 80])\n",
    "plt.show()"
   ]
  },
  {
   "cell_type": "code",
   "execution_count": 20,
   "metadata": {},
   "outputs": [
    {
     "data": {
      "text/plain": [
       "{'image': tensor([[[[0., 0., 0.,  ..., 0., 0., 0.],\n",
       "           [0., 0., 0.,  ..., 0., 0., 0.],\n",
       "           [0., 0., 0.,  ..., 0., 0., 0.],\n",
       "           ...,\n",
       "           [0., 0., 0.,  ..., 0., 0., 0.],\n",
       "           [0., 0., 0.,  ..., 0., 0., 0.],\n",
       "           [0., 0., 0.,  ..., 0., 0., 0.]],\n",
       " \n",
       "          [[0., 0., 0.,  ..., 0., 0., 0.],\n",
       "           [0., 0., 0.,  ..., 0., 0., 0.],\n",
       "           [0., 0., 0.,  ..., 0., 0., 0.],\n",
       "           ...,\n",
       "           [0., 0., 0.,  ..., 0., 0., 0.],\n",
       "           [0., 0., 0.,  ..., 0., 0., 0.],\n",
       "           [0., 0., 0.,  ..., 0., 0., 0.]],\n",
       " \n",
       "          [[0., 0., 0.,  ..., 0., 0., 0.],\n",
       "           [0., 0., 0.,  ..., 0., 0., 0.],\n",
       "           [0., 0., 0.,  ..., 0., 0., 0.],\n",
       "           ...,\n",
       "           [0., 0., 0.,  ..., 0., 0., 0.],\n",
       "           [0., 0., 0.,  ..., 0., 0., 0.],\n",
       "           [0., 0., 0.,  ..., 0., 0., 0.]],\n",
       " \n",
       "          ...,\n",
       " \n",
       "          [[0., 0., 0.,  ..., 0., 0., 0.],\n",
       "           [0., 0., 0.,  ..., 0., 0., 0.],\n",
       "           [0., 0., 0.,  ..., 0., 0., 0.],\n",
       "           ...,\n",
       "           [0., 0., 0.,  ..., 0., 0., 0.],\n",
       "           [0., 0., 0.,  ..., 0., 0., 0.],\n",
       "           [0., 0., 0.,  ..., 0., 0., 0.]],\n",
       " \n",
       "          [[0., 0., 0.,  ..., 0., 0., 0.],\n",
       "           [0., 0., 0.,  ..., 0., 0., 0.],\n",
       "           [0., 0., 0.,  ..., 0., 0., 0.],\n",
       "           ...,\n",
       "           [0., 0., 0.,  ..., 0., 0., 0.],\n",
       "           [0., 0., 0.,  ..., 0., 0., 0.],\n",
       "           [0., 0., 0.,  ..., 0., 0., 0.]],\n",
       " \n",
       "          [[0., 0., 0.,  ..., 0., 0., 0.],\n",
       "           [0., 0., 0.,  ..., 0., 0., 0.],\n",
       "           [0., 0., 0.,  ..., 0., 0., 0.],\n",
       "           ...,\n",
       "           [0., 0., 0.,  ..., 0., 0., 0.],\n",
       "           [0., 0., 0.,  ..., 0., 0., 0.],\n",
       "           [0., 0., 0.,  ..., 0., 0., 0.]]]]),\n",
       " 'label': tensor([[[[0., 0., 0.,  ..., 0., 0., 0.],\n",
       "           [0., 0., 0.,  ..., 0., 0., 0.],\n",
       "           [0., 0., 0.,  ..., 0., 0., 0.],\n",
       "           ...,\n",
       "           [0., 0., 0.,  ..., 0., 0., 0.],\n",
       "           [0., 0., 0.,  ..., 0., 0., 0.],\n",
       "           [0., 0., 0.,  ..., 0., 0., 0.]],\n",
       " \n",
       "          [[0., 0., 0.,  ..., 0., 0., 0.],\n",
       "           [0., 0., 0.,  ..., 0., 0., 0.],\n",
       "           [0., 0., 0.,  ..., 0., 0., 0.],\n",
       "           ...,\n",
       "           [0., 0., 0.,  ..., 0., 0., 0.],\n",
       "           [0., 0., 0.,  ..., 0., 0., 0.],\n",
       "           [0., 0., 0.,  ..., 0., 0., 0.]],\n",
       " \n",
       "          [[0., 0., 0.,  ..., 0., 0., 0.],\n",
       "           [0., 0., 0.,  ..., 0., 0., 0.],\n",
       "           [0., 0., 0.,  ..., 0., 0., 0.],\n",
       "           ...,\n",
       "           [0., 0., 0.,  ..., 0., 0., 0.],\n",
       "           [0., 0., 0.,  ..., 0., 0., 0.],\n",
       "           [0., 0., 0.,  ..., 0., 0., 0.]],\n",
       " \n",
       "          ...,\n",
       " \n",
       "          [[0., 0., 0.,  ..., 0., 0., 0.],\n",
       "           [0., 0., 0.,  ..., 0., 0., 0.],\n",
       "           [0., 0., 0.,  ..., 0., 0., 0.],\n",
       "           ...,\n",
       "           [0., 0., 0.,  ..., 0., 0., 0.],\n",
       "           [0., 0., 0.,  ..., 0., 0., 0.],\n",
       "           [0., 0., 0.,  ..., 0., 0., 0.]],\n",
       " \n",
       "          [[0., 0., 0.,  ..., 0., 0., 0.],\n",
       "           [0., 0., 0.,  ..., 0., 0., 0.],\n",
       "           [0., 0., 0.,  ..., 0., 0., 0.],\n",
       "           ...,\n",
       "           [0., 0., 0.,  ..., 0., 0., 0.],\n",
       "           [0., 0., 0.,  ..., 0., 0., 0.],\n",
       "           [0., 0., 0.,  ..., 0., 0., 0.]],\n",
       " \n",
       "          [[0., 0., 0.,  ..., 0., 0., 0.],\n",
       "           [0., 0., 0.,  ..., 0., 0., 0.],\n",
       "           [0., 0., 0.,  ..., 0., 0., 0.],\n",
       "           ...,\n",
       "           [0., 0., 0.,  ..., 0., 0., 0.],\n",
       "           [0., 0., 0.,  ..., 0., 0., 0.],\n",
       "           [0., 0., 0.,  ..., 0., 0., 0.]]]]),\n",
       " 'image_meta_dict': {'sizeof_hdr': array(348, dtype=int32),\n",
       "  'extents': array(0, dtype=int32),\n",
       "  'session_error': array(0, dtype=int16),\n",
       "  'dim_info': array(0, dtype=uint8),\n",
       "  'dim': array([  3, 512, 512,  55,   1,   1,   1,   1], dtype=int16),\n",
       "  'intent_p1': array(0., dtype=float32),\n",
       "  'intent_p2': array(0., dtype=float32),\n",
       "  'intent_p3': array(0., dtype=float32),\n",
       "  'intent_code': array(0, dtype=int16),\n",
       "  'datatype': array(16, dtype=int16),\n",
       "  'bitpix': array(32, dtype=int16),\n",
       "  'slice_start': array(0, dtype=int16),\n",
       "  'pixdim': array([1.      , 0.976562, 0.976562, 5.      , 0.      , 0.      ,\n",
       "         0.      , 0.      ], dtype=float32),\n",
       "  'vox_offset': array(0., dtype=float32),\n",
       "  'scl_slope': array(nan, dtype=float32),\n",
       "  'scl_inter': array(nan, dtype=float32),\n",
       "  'slice_end': array(0, dtype=int16),\n",
       "  'slice_code': array(0, dtype=uint8),\n",
       "  'xyzt_units': array(10, dtype=uint8),\n",
       "  'cal_max': array(0., dtype=float32),\n",
       "  'cal_min': array(0., dtype=float32),\n",
       "  'slice_duration': array(0., dtype=float32),\n",
       "  'toffset': array(0., dtype=float32),\n",
       "  'glmax': array(0, dtype=int32),\n",
       "  'glmin': array(0, dtype=int32),\n",
       "  'qform_code': array(1, dtype=int16),\n",
       "  'sform_code': array(1, dtype=int16),\n",
       "  'quatern_b': array(0., dtype=float32),\n",
       "  'quatern_c': array(0., dtype=float32),\n",
       "  'quatern_d': array(0., dtype=float32),\n",
       "  'qoffset_x': array(-499.0232, dtype=float32),\n",
       "  'qoffset_y': array(-499.0232, dtype=float32),\n",
       "  'qoffset_z': array(0., dtype=float32),\n",
       "  'srow_x': array([   0.976562,    0.      ,    0.      , -499.0232  ], dtype=float32),\n",
       "  'srow_y': array([   0.      ,    0.976562,    0.      , -499.0232  ], dtype=float32),\n",
       "  'srow_z': array([0., 0., 5., 0.], dtype=float32),\n",
       "  'filename_or_obj': '/media/Linux_4Tb/MONAI/Task09_Spleen/imagesTr/spleen_10.nii.gz',\n",
       "  'affine': array([[   1.5       ,    0.        ,    0.        , -499.02319336],\n",
       "         [   0.        ,    1.5       ,    0.        , -499.02319336],\n",
       "         [   0.        ,    0.        ,    2.        ,    0.        ],\n",
       "         [   0.        ,    0.        ,    0.        ,    1.        ]]),\n",
       "  'original_affine': array([[   0.97656202,    0.        ,    0.        , -499.02319336],\n",
       "         [   0.        ,    0.97656202,    0.        , -499.02319336],\n",
       "         [   0.        ,    0.        ,    5.        ,    0.        ],\n",
       "         [   0.        ,    0.        ,    0.        ,    1.        ]]),\n",
       "  'as_closest_canonical': False,\n",
       "  'spatial_shape': array([512, 512,  55], dtype=int16)},\n",
       " 'label_meta_dict': {'sizeof_hdr': array(348, dtype=int32),\n",
       "  'extents': array(0, dtype=int32),\n",
       "  'session_error': array(0, dtype=int16),\n",
       "  'dim_info': array(0, dtype=uint8),\n",
       "  'dim': array([  3, 512, 512,  55,   1,   1,   1,   1], dtype=int16),\n",
       "  'intent_p1': array(0., dtype=float32),\n",
       "  'intent_p2': array(0., dtype=float32),\n",
       "  'intent_p3': array(0., dtype=float32),\n",
       "  'intent_code': array(0, dtype=int16),\n",
       "  'datatype': array(2, dtype=int16),\n",
       "  'bitpix': array(8, dtype=int16),\n",
       "  'slice_start': array(0, dtype=int16),\n",
       "  'pixdim': array([1.      , 0.976562, 0.976562, 5.      , 0.      , 0.      ,\n",
       "         0.      , 0.      ], dtype=float32),\n",
       "  'vox_offset': array(0., dtype=float32),\n",
       "  'scl_slope': array(nan, dtype=float32),\n",
       "  'scl_inter': array(nan, dtype=float32),\n",
       "  'slice_end': array(0, dtype=int16),\n",
       "  'slice_code': array(0, dtype=uint8),\n",
       "  'xyzt_units': array(10, dtype=uint8),\n",
       "  'cal_max': array(0., dtype=float32),\n",
       "  'cal_min': array(0., dtype=float32),\n",
       "  'slice_duration': array(0., dtype=float32),\n",
       "  'toffset': array(0., dtype=float32),\n",
       "  'glmax': array(0, dtype=int32),\n",
       "  'glmin': array(0, dtype=int32),\n",
       "  'qform_code': array(1, dtype=int16),\n",
       "  'sform_code': array(1, dtype=int16),\n",
       "  'quatern_b': array(0., dtype=float32),\n",
       "  'quatern_c': array(0., dtype=float32),\n",
       "  'quatern_d': array(0., dtype=float32),\n",
       "  'qoffset_x': array(-499.0232, dtype=float32),\n",
       "  'qoffset_y': array(-499.0232, dtype=float32),\n",
       "  'qoffset_z': array(0., dtype=float32),\n",
       "  'srow_x': array([   0.976562,    0.      ,    0.      , -499.0232  ], dtype=float32),\n",
       "  'srow_y': array([   0.      ,    0.976562,    0.      , -499.0232  ], dtype=float32),\n",
       "  'srow_z': array([0., 0., 5., 0.], dtype=float32),\n",
       "  'filename_or_obj': '/media/Linux_4Tb/MONAI/Task09_Spleen/labelsTr/spleen_10.nii.gz',\n",
       "  'affine': array([[   1.5       ,    0.        ,    0.        , -499.02319336],\n",
       "         [   0.        ,    1.5       ,    0.        , -499.02319336],\n",
       "         [   0.        ,    0.        ,    2.        ,    0.        ],\n",
       "         [   0.        ,    0.        ,    0.        ,    1.        ]]),\n",
       "  'original_affine': array([[   0.97656202,    0.        ,    0.        , -499.02319336],\n",
       "         [   0.        ,    0.97656202,    0.        , -499.02319336],\n",
       "         [   0.        ,    0.        ,    5.        ,    0.        ],\n",
       "         [   0.        ,    0.        ,    0.        ,    1.        ]]),\n",
       "  'as_closest_canonical': False,\n",
       "  'spatial_shape': array([512, 512,  55], dtype=int16)}}"
      ]
     },
     "execution_count": 20,
     "metadata": {},
     "output_type": "execute_result"
    }
   ],
   "source": [
    "check_ds[0]"
   ]
  },
  {
   "cell_type": "markdown",
   "metadata": {},
   "source": [
    "## Cleanup data directory\n",
    "\n",
    "Remove directory if a temporary was used."
   ]
  },
  {
   "cell_type": "code",
   "execution_count": 19,
   "metadata": {},
   "outputs": [],
   "source": [
    "if directory is None:\n",
    "    shutil.rmtree(root_dir)"
   ]
  }
 ],
 "metadata": {
  "kernelspec": {
   "display_name": "Python 3",
   "language": "python",
   "name": "python3"
  },
  "language_info": {
   "codemirror_mode": {
    "name": "ipython",
    "version": 3
   },
   "file_extension": ".py",
   "mimetype": "text/x-python",
   "name": "python",
   "nbconvert_exporter": "python",
   "pygments_lexer": "ipython3",
   "version": "3.7.5"
  },
  "toc": {
   "base_numbering": 1,
   "nav_menu": {},
   "number_sections": true,
   "sideBar": true,
   "skip_h1_title": false,
   "title_cell": "Table of Contents",
   "title_sidebar": "Contents",
   "toc_cell": false,
   "toc_position": {},
   "toc_section_display": true,
   "toc_window_display": false
  }
 },
 "nbformat": 4,
 "nbformat_minor": 4
}
