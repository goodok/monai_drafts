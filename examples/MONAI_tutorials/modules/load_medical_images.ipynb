{
 "cells": [
  {
   "cell_type": "markdown",
   "metadata": {},
   "source": [
    "# Load medical images\n",
    "\n",
    "This notebook introduces how to easily load different formats of medical images in MONAI and execute many additional operations.\n",
    "\n",
    "[![Open In Colab](https://colab.research.google.com/assets/colab-badge.svg)](https://colab.research.google.com/github/Project-MONAI/tutorials/blob/master/modules/load_medical_images.ipynb)"
   ]
  },
  {
   "cell_type": "markdown",
   "metadata": {},
   "source": [
    "## Setup environment"
   ]
  },
  {
   "cell_type": "code",
   "execution_count": 1,
   "metadata": {
    "tags": []
   },
   "outputs": [
    {
     "name": "stdout",
     "output_type": "stream",
     "text": [
      "Note: you may need to restart the kernel to use updated packages.\n"
     ]
    }
   ],
   "source": [
    "%pip install -q \"monai[itk, nibabel, pillow]\""
   ]
  },
  {
   "cell_type": "markdown",
   "metadata": {},
   "source": [
    "## Setup imports"
   ]
  },
  {
   "cell_type": "code",
   "execution_count": 2,
   "metadata": {
    "tags": []
   },
   "outputs": [
    {
     "name": "stdout",
     "output_type": "stream",
     "text": [
      "MONAI version: 0.3.0\n",
      "Python version: 3.7.5 (default, Apr 19 2020, 20:18:17)  [GCC 9.2.1 20191008]\n",
      "OS version: Linux (5.3.0-64-generic)\n",
      "Numpy version: 1.19.2\n",
      "Pytorch version: 1.4.0\n",
      "MONAI flags: HAS_EXT = True, USE_COMPILED = False\n",
      "\n",
      "Optional dependencies:\n",
      "Pytorch Ignite version: NOT INSTALLED or UNKNOWN VERSION.\n",
      "Nibabel version: 3.1.1\n",
      "scikit-image version: 0.17.2\n",
      "Pillow version: 7.0.0\n",
      "Tensorboard version: NOT INSTALLED or UNKNOWN VERSION.\n",
      "gdown version: 3.12.2\n",
      "TorchVision version: 0.5.0\n",
      "ITK version: 5.1.0\n",
      "tqdm version: 4.50.2\n",
      "\n",
      "For details about installing the optional dependencies, please visit:\n",
      "    https://docs.monai.io/en/latest/installation.html#installing-the-recommended-dependencies\n",
      "\n"
     ]
    }
   ],
   "source": [
    "# Copyright 2020 MONAI Consortium\n",
    "# Licensed under the Apache License, Version 2.0 (the \"License\");\n",
    "# you may not use this file except in compliance with the License.\n",
    "# You may obtain a copy of the License at\n",
    "#     http://www.apache.org/licenses/LICENSE-2.0\n",
    "# Unless required by applicable law or agreed to in writing, software\n",
    "# distributed under the License is distributed on an \"AS IS\" BASIS,\n",
    "# WITHOUT WARRANTIES OR CONDITIONS OF ANY KIND, either express or implied.\n",
    "# See the License for the specific language governing permissions and\n",
    "# limitations under the License.\n",
    "\n",
    "# Copyright 2020 MONAI Consortium\n",
    "# Licensed under the Apache License, Version 2.0 (the \"License\");\n",
    "# you may not use this file except in compliance with the License.\n",
    "# You may obtain a copy of the License at\n",
    "#     http://www.apache.org/licenses/LICENSE-2.0\n",
    "# Unless required by applicable law or agreed to in writing, software\n",
    "# distributed under the License is distributed on an \"AS IS\" BASIS,\n",
    "# WITHOUT WARRANTIES OR CONDITIONS OF ANY KIND, either express or implied.\n",
    "# See the License for the specific language governing permissions and\n",
    "# limitations under the License.\n",
    "\n",
    "import os\n",
    "import shutil\n",
    "import numpy as np\n",
    "import itk\n",
    "from PIL import Image\n",
    "import tempfile\n",
    "from monai.data import ITKReader, NibabelReader, PILReader\n",
    "from monai.transforms import LoadImage, LoadImaged, AddChanneld, Resized, ToTensord, Compose\n",
    "from monai.config import print_config\n",
    "\n",
    "print_config()"
   ]
  },
  {
   "cell_type": "markdown",
   "metadata": {},
   "source": [
    "## Load Nifti image with default image reader\n",
    "MONAI leverages `ITK` as the default image reader, it can support most of the common medical image formats.\n",
    "More details, please check: https://github.com/InsightSoftwareConsortium/ITK/tree/master/Modules/IO"
   ]
  },
  {
   "cell_type": "code",
   "execution_count": 3,
   "metadata": {
    "tags": []
   },
   "outputs": [
    {
     "name": "stdout",
     "output_type": "stream",
     "text": [
      "image data shape:(64, 128, 96)\n",
      "meta data:{'ITK_FileNotes': '', 'aux_file': '', 'bitpix': '64', 'cal_max': '0', 'cal_min': '0', 'datatype': '64', 'descrip': '', 'dim[0]': '3', 'dim[1]': '96', 'dim[2]': '128', 'dim[3]': '64', 'dim[4]': '1', 'dim[5]': '1', 'dim[6]': '1', 'dim[7]': '1', 'dim_info': '0', 'intent_code': '0', 'intent_name': '', 'intent_p1': '0', 'intent_p2': '0', 'intent_p3': '0', 'nifti_type': '1', 'pixdim[0]': '0', 'pixdim[1]': '1', 'pixdim[2]': '1', 'pixdim[3]': '1', 'pixdim[4]': '0', 'pixdim[5]': '0', 'pixdim[6]': '0', 'pixdim[7]': '0', 'qform_code': '1', 'qform_code_name': 'NIFTI_XFORM_SCANNER_ANAT', 'qoffset_x': '-0', 'qoffset_y': '-0', 'qoffset_z': '0', 'quatern_b': '0', 'quatern_c': '0', 'quatern_d': '1', 'scl_inter': '0', 'scl_slope': '1', 'sform_code': '0', 'sform_code_name': 'NIFTI_XFORM_UNKNOWN', 'slice_code': '0', 'slice_duration': '0', 'slice_end': '0', 'slice_start': '0', 'srow_x': '0 0 0 0', 'srow_y': '0 0 0 0', 'srow_z': '0 0 0 0', 'toffset': '0', 'vox_offset': '352', 'xyzt_units': '2', 'origin': array([0., 0., 0.]), 'spacing': array([1., 1., 1.]), 'direction': array([[1., 0., 0.],\n",
      "       [0., 1., 0.],\n",
      "       [0., 0., 1.]]), 'original_affine': array([[1., 0., 0., 0.],\n",
      "       [0., 1., 0., 0.],\n",
      "       [0., 0., 1., 0.],\n",
      "       [0., 0., 0., 1.]]), 'affine': array([[1., 0., 0., 0.],\n",
      "       [0., 1., 0., 0.],\n",
      "       [0., 0., 1., 0.],\n",
      "       [0., 0., 0., 1.]]), 'spatial_shape': [64, 128, 96], 'filename_or_obj': '/tmp/tmp1mp24l9r/test_image.nii.gz'}\n"
     ]
    }
   ],
   "source": [
    "# generate 3D test images\n",
    "tempdir = tempfile.mkdtemp()\n",
    "test_image = np.random.rand(64, 128, 96)\n",
    "filename = os.path.join(tempdir, \"test_image.nii.gz\")\n",
    "itk_np_view = itk.image_view_from_array(test_image)\n",
    "itk.imwrite(itk_np_view, filename)\n",
    "data, meta = LoadImage()(filename)\n",
    "\n",
    "print(f\"image data shape:{data.shape}\")\n",
    "print(f\"meta data:{meta}\")"
   ]
  },
  {
   "cell_type": "markdown",
   "metadata": {},
   "source": [
    "## Load a list of Nifti images and stack as 1 training item\n",
    "Loading a list of files, stack them together and add a new dimension as first dimension.\n",
    "\n",
    "And use the meta data of the first image to represent the stacked result."
   ]
  },
  {
   "cell_type": "code",
   "execution_count": 4,
   "metadata": {},
   "outputs": [
    {
     "name": "stdout",
     "output_type": "stream",
     "text": [
      "image data shape:(3, 64, 128, 96)\n",
      "meta data:{'ITK_FileNotes': '', 'aux_file': '', 'bitpix': '64', 'cal_max': '0', 'cal_min': '0', 'datatype': '64', 'descrip': '', 'dim[0]': '3', 'dim[1]': '96', 'dim[2]': '128', 'dim[3]': '64', 'dim[4]': '1', 'dim[5]': '1', 'dim[6]': '1', 'dim[7]': '1', 'dim_info': '0', 'intent_code': '0', 'intent_name': '', 'intent_p1': '0', 'intent_p2': '0', 'intent_p3': '0', 'nifti_type': '1', 'pixdim[0]': '0', 'pixdim[1]': '1', 'pixdim[2]': '1', 'pixdim[3]': '1', 'pixdim[4]': '0', 'pixdim[5]': '0', 'pixdim[6]': '0', 'pixdim[7]': '0', 'qform_code': '1', 'qform_code_name': 'NIFTI_XFORM_SCANNER_ANAT', 'qoffset_x': '-0', 'qoffset_y': '-0', 'qoffset_z': '0', 'quatern_b': '0', 'quatern_c': '0', 'quatern_d': '1', 'scl_inter': '0', 'scl_slope': '1', 'sform_code': '0', 'sform_code_name': 'NIFTI_XFORM_UNKNOWN', 'slice_code': '0', 'slice_duration': '0', 'slice_end': '0', 'slice_start': '0', 'srow_x': '0 0 0 0', 'srow_y': '0 0 0 0', 'srow_z': '0 0 0 0', 'toffset': '0', 'vox_offset': '352', 'xyzt_units': '2', 'origin': array([0., 0., 0.]), 'spacing': array([1., 1., 1.]), 'direction': array([[1., 0., 0.],\n",
      "       [0., 1., 0.],\n",
      "       [0., 0., 1.]]), 'original_affine': array([[1., 0., 0., 0.],\n",
      "       [0., 1., 0., 0.],\n",
      "       [0., 0., 1., 0.],\n",
      "       [0., 0., 0., 1.]]), 'affine': array([[1., 0., 0., 0.],\n",
      "       [0., 1., 0., 0.],\n",
      "       [0., 0., 1., 0.],\n",
      "       [0., 0., 0., 1.]]), 'spatial_shape': [64, 128, 96], 'filename_or_obj': '/tmp/tmp1mp24l9r/test_image.nii.gz'}\n"
     ]
    }
   ],
   "source": [
    "filenames = [\"test_image.nii.gz\", \"test_image2.nii.gz\", \"test_image3.nii.gz\"]\n",
    "for i, name in enumerate(filenames):\n",
    "    filenames[i] = os.path.join(tempdir, name)\n",
    "    itk_np_view = itk.image_view_from_array(test_image)\n",
    "    itk.imwrite(itk_np_view, filenames[i])\n",
    "data, meta = LoadImage()(filenames)\n",
    "\n",
    "print(f\"image data shape:{data.shape}\")\n",
    "print(f\"meta data:{meta}\")"
   ]
  },
  {
   "cell_type": "markdown",
   "metadata": {},
   "source": [
    "## Load 3D image in DICOM format"
   ]
  },
  {
   "cell_type": "code",
   "execution_count": 5,
   "metadata": {},
   "outputs": [
    {
     "name": "stdout",
     "output_type": "stream",
     "text": [
      "image data shape:(64, 128, 96)\n",
      "meta data:{'0008|0016': '1.2.840.10008.5.1.4.1.1.7.2', '0008|0018': '1.2.826.0.1.3680043.2.1125.1.78523151191630645680199123268324368', '0008|0020': '20201015', '0008|0030': '173541.494152 ', '0008|0050': '', '0008|0060': 'OT', '0008|0090': '', '0010|0010': '', '0010|0020': '', '0010|0030': '', '0010|0040': '', '0020|000d': '1.2.826.0.1.3680043.2.1125.1.76288949568692572349914906933649345', '0020|000e': '1.2.826.0.1.3680043.2.1125.1.23765817968802209787793219354225809', '0020|0010': '', '0020|0011': '', '0020|0013': '', '0020|0052': '1.2.826.0.1.3680043.2.1125.1.35501216570637523037793881904964907', '0028|0002': '1', '0028|0004': 'MONOCHROME2 ', '0028|0008': '64', '0028|0009': '(5200,9230)', '0028|0010': '128', '0028|0011': '96', '0028|0100': '8', '0028|0101': '8', '0028|0102': '7', '0028|0103': '0', '0028|1052': '0 ', '0028|1053': '1 ', '0028|1054': 'US', 'origin': array([0., 0., 0.]), 'spacing': array([1., 1., 1.]), 'direction': array([[1., 0., 0.],\n",
      "       [0., 1., 0.],\n",
      "       [0., 0., 1.]]), 'original_affine': array([[1., 0., 0., 0.],\n",
      "       [0., 1., 0., 0.],\n",
      "       [0., 0., 1., 0.],\n",
      "       [0., 0., 0., 1.]]), 'affine': array([[1., 0., 0., 0.],\n",
      "       [0., 1., 0., 0.],\n",
      "       [0., 0., 1., 0.],\n",
      "       [0., 0., 0., 1.]]), 'spatial_shape': [64, 128, 96], 'filename_or_obj': '/tmp/tmp1mp24l9r/test_image.dcm'}\n"
     ]
    }
   ],
   "source": [
    "filename = os.path.join(tempdir, \"test_image.dcm\")\n",
    "dcm_image = np.random.randint(256, size=(64, 128, 96)).astype(np.uint8())\n",
    "itk_np_view = itk.image_view_from_array(dcm_image)\n",
    "itk.imwrite(itk_np_view, filename)\n",
    "data, meta = LoadImage()(filename)\n",
    "\n",
    "print(f\"image data shape:{data.shape}\")\n",
    "print(f\"meta data:{meta}\")"
   ]
  },
  {
   "cell_type": "markdown",
   "metadata": {},
   "source": [
    "## Load a list of DICOM images and stack as 1 training item\n",
    "Loading a list of files, stack them together and add a new dimension as first dimension.\n",
    "\n",
    "And use the meta data of the first image to represent the stacked result."
   ]
  },
  {
   "cell_type": "code",
   "execution_count": 6,
   "metadata": {},
   "outputs": [
    {
     "name": "stdout",
     "output_type": "stream",
     "text": [
      "image data shape:(3, 64, 128, 96)\n",
      "meta data:{'0008|0016': '1.2.840.10008.5.1.4.1.1.7.2', '0008|0018': '1.2.826.0.1.3680043.2.1125.1.71783906338173217242085381909233093', '0008|0020': '20201015', '0008|0030': '173553.873354 ', '0008|0050': '', '0008|0060': 'OT', '0008|0090': '', '0010|0010': '', '0010|0020': '', '0010|0030': '', '0010|0040': '', '0020|000d': '1.2.826.0.1.3680043.2.1125.1.67025769326467080062343720350921383', '0020|000e': '1.2.826.0.1.3680043.2.1125.1.32548435593959484414685484260374056', '0020|0010': '', '0020|0011': '', '0020|0013': '', '0020|0052': '1.2.826.0.1.3680043.2.1125.1.81830296188116640405931985753139068', '0028|0002': '1', '0028|0004': 'MONOCHROME2 ', '0028|0008': '64', '0028|0009': '(5200,9230)', '0028|0010': '128', '0028|0011': '96', '0028|0100': '8', '0028|0101': '8', '0028|0102': '7', '0028|0103': '0', '0028|1052': '0 ', '0028|1053': '1 ', '0028|1054': 'US', 'origin': array([0., 0., 0.]), 'spacing': array([1., 1., 1.]), 'direction': array([[1., 0., 0.],\n",
      "       [0., 1., 0.],\n",
      "       [0., 0., 1.]]), 'original_affine': array([[1., 0., 0., 0.],\n",
      "       [0., 1., 0., 0.],\n",
      "       [0., 0., 1., 0.],\n",
      "       [0., 0., 0., 1.]]), 'affine': array([[1., 0., 0., 0.],\n",
      "       [0., 1., 0., 0.],\n",
      "       [0., 0., 1., 0.],\n",
      "       [0., 0., 0., 1.]]), 'spatial_shape': [64, 128, 96], 'filename_or_obj': '/tmp/tmp1mp24l9r/test_image.dcm'}\n"
     ]
    }
   ],
   "source": [
    "filenames = [\"test_image.dcm\", \"test_image2.dcm\", \"test_image3.dcm\"]\n",
    "for i, name in enumerate(filenames):\n",
    "    filenames[i] = os.path.join(tempdir, name)\n",
    "    itk_np_view = itk.image_view_from_array(dcm_image)\n",
    "    itk.imwrite(itk_np_view, filenames[i])\n",
    "data, meta = LoadImage()(filenames)\n",
    "\n",
    "print(f\"image data shape:{data.shape}\")\n",
    "print(f\"meta data:{meta}\")"
   ]
  },
  {
   "cell_type": "markdown",
   "metadata": {},
   "source": [
    "## Load 2D image in PNG format"
   ]
  },
  {
   "cell_type": "code",
   "execution_count": 7,
   "metadata": {
    "tags": []
   },
   "outputs": [
    {
     "name": "stdout",
     "output_type": "stream",
     "text": [
      "image data shape:(128, 256)\n",
      "meta data:{'origin': array([0., 0.]), 'spacing': array([1., 1.]), 'direction': array([[1., 0.],\n",
      "       [0., 1.]]), 'original_affine': array([[1., 0., 0.],\n",
      "       [0., 1., 0.],\n",
      "       [0., 0., 1.]]), 'affine': array([[1., 0., 0.],\n",
      "       [0., 1., 0.],\n",
      "       [0., 0., 1.]]), 'spatial_shape': [128, 256], 'filename_or_obj': '/tmp/tmp1mp24l9r/test_image.png'}\n"
     ]
    }
   ],
   "source": [
    "test_image = np.random.randint(0, 256, size=[128, 256])\n",
    "filename = os.path.join(tempdir, \"test_image.png\")\n",
    "Image.fromarray(test_image.astype(\"uint8\")).save(filename)\n",
    "data, meta = LoadImage()(filename)\n",
    "\n",
    "print(f\"image data shape:{data.shape}\")\n",
    "print(f\"meta data:{meta}\")"
   ]
  },
  {
   "cell_type": "markdown",
   "metadata": {},
   "source": [
    "## Load image with specified image reader\n",
    "The `LoadImage` transforms can automatically choose readers based on the supported subffixes and in below order:\n",
    "- User specified reader at runtime when call this loader.\n",
    "- Registered readers from the first to the last in list, user can register reader when initializing or at runtime.\n",
    "- Default ITK reader.\n",
    "\n",
    "And we can set additional parameters for the image readers, for example, set `c_order_axis_indexing=True` for `ITKReader`, this parameter will pass to ITK `read()` function later."
   ]
  },
  {
   "cell_type": "code",
   "execution_count": 8,
   "metadata": {},
   "outputs": [
    {
     "name": "stdout",
     "output_type": "stream",
     "text": [
      "image data shape:(128, 256)\n",
      "meta data:{'origin': array([0., 0.]), 'spacing': array([1., 1.]), 'direction': array([[1., 0.],\n",
      "       [0., 1.]]), 'original_affine': array([[1., 0., 0.],\n",
      "       [0., 1., 0.],\n",
      "       [0., 0., 1.]]), 'affine': array([[1., 0., 0.],\n",
      "       [0., 1., 0.],\n",
      "       [0., 0., 1.]]), 'spatial_shape': [128, 256], 'filename_or_obj': '/tmp/tmp1mp24l9r/test_image.png'}\n"
     ]
    }
   ],
   "source": [
    "loader = LoadImage()\n",
    "loader.register(ITKReader())\n",
    "data, meta = loader(filename)\n",
    "\n",
    "print(f\"image data shape:{data.shape}\")\n",
    "print(f\"meta data:{meta}\")"
   ]
  },
  {
   "cell_type": "markdown",
   "metadata": {},
   "source": [
    "## Load image and execute additional operations\n",
    "Some image readers can support additional operations after reading the image from file.\n",
    "\n",
    "For example, we can set a converter for PILReader: `PILReader(converter=lambda image: image.convert(\"LA\"))`."
   ]
  },
  {
   "cell_type": "code",
   "execution_count": 9,
   "metadata": {},
   "outputs": [
    {
     "name": "stdout",
     "output_type": "stream",
     "text": [
      "image data shape:(128, 256, 2)\n",
      "meta data:{'format': None, 'mode': 'LA', 'width': 256, 'height': 128, 'info': {}, 'spatial_shape': [256, 128], 'filename_or_obj': '/tmp/tmp1mp24l9r/test_image.png'}\n"
     ]
    }
   ],
   "source": [
    "loader = LoadImage(PILReader(converter=lambda image: image.convert(\"LA\")))\n",
    "data, meta = loader(filename)\n",
    "\n",
    "print(f\"image data shape:{data.shape}\")\n",
    "print(f\"meta data:{meta}\")"
   ]
  },
  {
   "cell_type": "markdown",
   "metadata": {},
   "source": [
    "## Connect `LoadImage` with other transforms\n",
    "It's very easy to connect `LoadImage` transform with other transforms to construct a transform chain."
   ]
  },
  {
   "cell_type": "code",
   "execution_count": 10,
   "metadata": {
    "tags": []
   },
   "outputs": [
    {
     "name": "stdout",
     "output_type": "stream",
     "text": [
      "image data shape:torch.Size([1, 64, 64])\n",
      "meta data:{'origin': array([0., 0.]), 'spacing': array([1., 1.]), 'direction': array([[1., 0.],\n",
      "       [0., 1.]]), 'original_affine': array([[1., 0., 0.],\n",
      "       [0., 1., 0.],\n",
      "       [0., 0., 1.]]), 'affine': array([[1., 0., 0.],\n",
      "       [0., 1., 0.],\n",
      "       [0., 0., 1.]]), 'spatial_shape': [128, 256], 'filename_or_obj': '/tmp/tmp1mp24l9r/test_image.png'}\n"
     ]
    }
   ],
   "source": [
    "transform = Compose([\n",
    "    LoadImaged(keys=\"image\"),\n",
    "    AddChanneld(keys=\"image\"),\n",
    "    Resized(keys=\"image\", spatial_size=[64, 64]),\n",
    "    ToTensord(\"image\"),\n",
    "])\n",
    "test_data = {\"image\": filename}\n",
    "result = transform(test_data)\n",
    "print(f\"image data shape:{result['image'].shape}\")\n",
    "print(f\"meta data:{result['image_meta_dict']}\")"
   ]
  },
  {
   "cell_type": "markdown",
   "metadata": {},
   "source": [
    "## Cleanup data directory\n",
    "\n",
    "Remove directory if a temporary was used."
   ]
  },
  {
   "cell_type": "code",
   "execution_count": 11,
   "metadata": {},
   "outputs": [],
   "source": [
    "shutil.rmtree(tempdir)"
   ]
  },
  {
   "cell_type": "code",
   "execution_count": null,
   "metadata": {},
   "outputs": [],
   "source": []
  }
 ],
 "metadata": {
  "kernelspec": {
   "display_name": "Python 3",
   "language": "python",
   "name": "python3"
  },
  "language_info": {
   "codemirror_mode": {
    "name": "ipython",
    "version": 3
   },
   "file_extension": ".py",
   "mimetype": "text/x-python",
   "name": "python",
   "nbconvert_exporter": "python",
   "pygments_lexer": "ipython3",
   "version": "3.7.5"
  },
  "toc": {
   "base_numbering": 1,
   "nav_menu": {},
   "number_sections": true,
   "sideBar": true,
   "skip_h1_title": false,
   "title_cell": "Table of Contents",
   "title_sidebar": "Contents",
   "toc_cell": false,
   "toc_position": {},
   "toc_section_display": true,
   "toc_window_display": false
  }
 },
 "nbformat": 4,
 "nbformat_minor": 2
}
