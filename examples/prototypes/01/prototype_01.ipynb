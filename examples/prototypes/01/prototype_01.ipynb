{
 "cells": [
  {
   "cell_type": "markdown",
   "metadata": {},
   "source": [
    "# Imports\n",
    "\n"
   ]
  },
  {
   "cell_type": "code",
   "execution_count": 76,
   "metadata": {},
   "outputs": [
    {
     "name": "stdout",
     "output_type": "stream",
     "text": [
      "The autoreload extension is already loaded. To reload it, use:\n",
      "  %reload_ext autoreload\n"
     ]
    }
   ],
   "source": [
    "from pathlib import Path\n",
    "import numpy as np\n",
    "import trimesh\n",
    "from monai.data import Dataset\n",
    "from monai.config import print_config\n",
    "from transforms_templates.utils.utils import watermark, wide_notebook\n",
    "from transforms_templates.utils.log import log\n",
    "\n",
    "# autoreload python modules on the fly when its source is changed\n",
    "%load_ext autoreload\n",
    "%autoreload 2\n"
   ]
  },
  {
   "cell_type": "code",
   "execution_count": 3,
   "metadata": {},
   "outputs": [
    {
     "name": "stdout",
     "output_type": "stream",
     "text": [
      "MONAI version: 0.3.0\n",
      "Python version: 3.7.5 (default, Apr 19 2020, 20:18:17)  [GCC 9.2.1 20191008]\n",
      "OS version: Linux (5.3.0-64-generic)\n",
      "Numpy version: 1.19.2\n",
      "Pytorch version: 1.4.0\n",
      "MONAI flags: HAS_EXT = True, USE_COMPILED = False\n",
      "\n",
      "Optional dependencies:\n",
      "Pytorch Ignite version: NOT INSTALLED or UNKNOWN VERSION.\n",
      "Nibabel version: 3.1.1\n",
      "scikit-image version: 0.17.2\n",
      "Pillow version: 7.0.0\n",
      "Tensorboard version: 2.4.0a20201021\n",
      "gdown version: 3.12.2\n",
      "TorchVision version: 0.5.0\n",
      "ITK version: 5.1.0\n",
      "tqdm version: 4.50.2\n",
      "\n",
      "For details about installing the optional dependencies, please visit:\n",
      "    https://docs.monai.io/en/latest/installation.html#installing-the-recommended-dependencies\n",
      "\n",
      "virtualenv:     (transforms_templates) \n",
      "python:         3.7.5\n",
      "hostname:       GA-970A-UD3\n",
      "nvidia driver:  b'435.21'\n",
      "torch:          1.4.0\n",
      "trimesh:        3.8.11\n",
      "transforms_templates: \n"
     ]
    },
    {
     "data": {
      "text/html": [
       "<style>.container { width:70% !important; }</style>"
      ],
      "text/plain": [
       "<IPython.core.display.HTML object>"
      ]
     },
     "metadata": {},
     "output_type": "display_data"
    }
   ],
   "source": [
    "print_config()\n",
    "\n",
    "_ = watermark(packages=['python', 'virtualenv', 'nvidia', 'cudnn', 'hostname', 'torch', 'trimesh', 'transforms_templates'])\n",
    "wide_notebook()"
   ]
  },
  {
   "cell_type": "markdown",
   "metadata": {},
   "source": [
    "#  Data dir"
   ]
  },
  {
   "cell_type": "code",
   "execution_count": 30,
   "metadata": {},
   "outputs": [],
   "source": [
    "# Setup data directory\n",
    "\n",
    "DIR_DATA = Path(\"/media/Linux_4Tb/synth3D/tablets_30\")\n",
    "assert DIR_DATA.exists()"
   ]
  },
  {
   "cell_type": "markdown",
   "metadata": {},
   "source": [
    "# Data set"
   ]
  },
  {
   "cell_type": "code",
   "execution_count": 56,
   "metadata": {},
   "outputs": [],
   "source": [
    "#d = (DIR_DATA / 'corrupted')\n",
    "train_ply_files = sorted((DIR_DATA / 'corrupted').glob('*.ply'))\n",
    "\n",
    "def get_corresponding_png_file(fn, foreshortening='top', kind='rgb'):\n",
    "    assert foreshortening in ['top', 'left', 'right']\n",
    "    assert kind in ['rgb', 'depth']\n",
    "    base = fn.with_suffix('').name\n",
    "    return fn.parent.parent / 'renders' / f'{base}_{foreshortening}_{kind}.png'\n",
    "\n",
    "def get_corresponding_meta_info_file(fn, foreshortening='top'):\n",
    "    assert foreshortening in ['top', 'left', 'right']\n",
    "    base = fn.with_suffix('').name\n",
    "    return fn.parent.parent / 'renders' / f'{base}_{foreshortening}_meta_info.json'\n",
    "\n",
    "def get_files_dict(fn):\n",
    "    {'mesh': fn, 'image2d': get_corresponding_png_file(fn), 'image2d_meta_dict': get_corresponding_meta_info_file(fn)}\n",
    "    return \n",
    "\n",
    "data_dicts = [get_files_dict(fn) for fn in train_ply_files]"
   ]
  },
  {
   "cell_type": "code",
   "execution_count": 61,
   "metadata": {},
   "outputs": [],
   "source": [
    "ds = Dataset(data=data_dicts)"
   ]
  },
  {
   "cell_type": "code",
   "execution_count": 62,
   "metadata": {},
   "outputs": [
    {
     "data": {
      "text/plain": [
       "{'mesh': PosixPath('/media/Linux_4Tb/synth3D/tablets_30/corrupted/tablets_30_00000.ply'),\n",
       " 'image2d': PosixPath('/media/Linux_4Tb/synth3D/tablets_30/renders/tablets_30_00000_top_rgb.png'),\n",
       " 'image2d_meta_dict': PosixPath('/media/Linux_4Tb/synth3D/tablets_30/renders/tablets_30_00000_top_meta_info.json')}"
      ]
     },
     "execution_count": 62,
     "metadata": {},
     "output_type": "execute_result"
    }
   ],
   "source": [
    "ds[0]"
   ]
  },
  {
   "cell_type": "code",
   "execution_count": 63,
   "metadata": {},
   "outputs": [
    {
     "data": {
      "text/plain": [
       "(True, True, True)"
      ]
     },
     "execution_count": 63,
     "metadata": {},
     "output_type": "execute_result"
    }
   ],
   "source": [
    "ds[0]['mesh'].exists(), ds[0]['image2d'].exists(), ds[0]['image2d_meta_dict'].exists()"
   ]
  },
  {
   "cell_type": "markdown",
   "metadata": {},
   "source": [
    "#  Loader as transform"
   ]
  },
  {
   "cell_type": "code",
   "execution_count": 64,
   "metadata": {},
   "outputs": [],
   "source": [
    "from transforms_templates.transforms.io.mesh import LoadPLYd\n",
    "from transforms_templates.transforms.io.image2d import LoadPNGandJSONd\n",
    "from transforms_templates.transforms.compose import Compose\n",
    "\n",
    "#from monai.transforms import LoadDatad, LoadPNG\n",
    "#from monai.config import KeysCollection\n",
    "#from monai.transforms import Transform\n",
    "\n"
   ]
  },
  {
   "cell_type": "markdown",
   "metadata": {},
   "source": [
    "## Test loader transform"
   ]
  },
  {
   "cell_type": "code",
   "execution_count": 68,
   "metadata": {},
   "outputs": [],
   "source": [
    "load_plyd = LoadPLYd(keys=['mesh'])\n",
    "load_pngd = LoadPNGandJSONd(keys=['image2d'], overwriting=True)\n",
    "\n",
    "tfms = Compose([\n",
    "    load_plyd,\n",
    "    load_pngd,\n",
    "])"
   ]
  },
  {
   "cell_type": "code",
   "execution_count": 69,
   "metadata": {},
   "outputs": [
    {
     "data": {
      "text/plain": [
       "{'mesh': PosixPath('/media/Linux_4Tb/synth3D/tablets_30/corrupted/tablets_30_00000.ply'),\n",
       " 'image2d': PosixPath('/media/Linux_4Tb/synth3D/tablets_30/renders/tablets_30_00000_top_rgb.png'),\n",
       " 'image2d_meta_dict': PosixPath('/media/Linux_4Tb/synth3D/tablets_30/renders/tablets_30_00000_top_meta_info.json')}"
      ]
     },
     "execution_count": 69,
     "metadata": {},
     "output_type": "execute_result"
    }
   ],
   "source": [
    "# object before transformation\n",
    "ds[0]"
   ]
  },
  {
   "cell_type": "code",
   "execution_count": 70,
   "metadata": {},
   "outputs": [],
   "source": [
    "#o = load_pngd(load_plyd(ds[0]))\n",
    "o = tfms(ds[0])\n"
   ]
  },
  {
   "cell_type": "code",
   "execution_count": 71,
   "metadata": {},
   "outputs": [
    {
     "data": {
      "text/plain": [
       "dict_keys(['mesh', 'image2d', 'image2d_meta_dict', 'mesh_meta_dict'])"
      ]
     },
     "execution_count": 71,
     "metadata": {},
     "output_type": "execute_result"
    }
   ],
   "source": [
    "o.keys()"
   ]
  },
  {
   "cell_type": "code",
   "execution_count": 72,
   "metadata": {},
   "outputs": [
    {
     "name": "stdout",
     "output_type": "stream",
     "text": [
      "   mesh          <trimesh.Trimesh(vertices.shape=(20672, 3), faces.shape=(41340, 3))>\n",
      "   image2d       shape: (256, 256, 4)   dtype: float32        min:   48.00000,  max:  255.00000,  mean:  186.18477\n",
      "image2d_meta_dict:\n",
      "   filename_or_obj/media/Linux_4Tb/synth3D/tablets_30/renders/tablets_30_00000_top_rgb.png\n",
      "   spatial_shape (256, 256)\n",
      "   format        'PNG'\n",
      "   mode          'RGBA'\n",
      "   width         256\n",
      "   height        256\n",
      "info:\n",
      "   Software      'Matplotlib version3.3.2, https://matplotlib.org/'\n",
      "   dpi           (100, 100)\n",
      "camera_info:\n",
      "   projection_matrix[[3.7290582683229117, 0.0, 0.0, 0.0], [0.0, 3.7290582683229117, 0.0, 0.0], [0.0, 0.0, -1.0, -0.1], [0.0, 0.0, -1.0, 0.0]]\n",
      "   pos           [[0.4740219150535512, 0.0, 0.0, -0.01960298782994421], [0.0, 0.3884119482415088, 0.0, 0.07782934662503353], [0.0, 0.0, 0.21290340269744243, 2.037916436782144], [0.0, 0.0, 0.0, 1.0]]\n",
      "   mesh_transform[[0.029978259332472904, -0.000982396127965389, 0.0005821213299304508, 0.0], [0.0009825811245980187, 0.02998390458785486, 0.0, -0.3], [-0.0005818090138396605, 1.9066047700518553e-05, 0.029994351714235132, 0.0], [0.0, 0.0, 0.0, 1.0]]\n",
      "mesh_meta_dict:\n",
      "   meta          1\n"
     ]
    }
   ],
   "source": [
    "log(o)"
   ]
  },
  {
   "cell_type": "code",
   "execution_count": 74,
   "metadata": {},
   "outputs": [
    {
     "data": {
      "text/plain": [
       "numpy.ndarray"
      ]
     },
     "execution_count": 74,
     "metadata": {},
     "output_type": "execute_result"
    }
   ],
   "source": [
    "type(o['image2d'])"
   ]
  },
  {
   "cell_type": "code",
   "execution_count": 77,
   "metadata": {},
   "outputs": [
    {
     "data": {
      "text/plain": [
       "True"
      ]
     },
     "execution_count": 77,
     "metadata": {},
     "output_type": "execute_result"
    }
   ],
   "source": [
    "isinstance(o['image2d'], np.ndarray) and "
   ]
  },
  {
   "cell_type": "code",
   "execution_count": 15,
   "metadata": {},
   "outputs": [
    {
     "data": {
      "text/plain": [
       "{'mesh': <transforms_templates.items.items.MeshItem at 0x7fb23da918d0>,\n",
       " 'image2d': array([[[255., 255., 255., 255.],\n",
       "         [255., 255., 255., 255.],\n",
       "         [255., 255., 255., 255.],\n",
       "         ...,\n",
       "         [255., 255., 255., 255.],\n",
       "         [255., 255., 255., 255.],\n",
       "         [255., 255., 255., 255.]],\n",
       " \n",
       "        [[255., 255., 255., 255.],\n",
       "         [255., 255., 255., 255.],\n",
       "         [255., 255., 255., 255.],\n",
       "         ...,\n",
       "         [255., 255., 255., 255.],\n",
       "         [255., 255., 255., 255.],\n",
       "         [255., 255., 255., 255.]],\n",
       " \n",
       "        [[255., 255., 255., 255.],\n",
       "         [255., 255., 255., 255.],\n",
       "         [255., 255., 255., 255.],\n",
       "         ...,\n",
       "         [255., 255., 255., 255.],\n",
       "         [255., 255., 255., 255.],\n",
       "         [255., 255., 255., 255.]],\n",
       " \n",
       "        ...,\n",
       " \n",
       "        [[255., 255., 255., 255.],\n",
       "         [255., 255., 255., 255.],\n",
       "         [255., 255., 255., 255.],\n",
       "         ...,\n",
       "         [255., 255., 255., 255.],\n",
       "         [255., 255., 255., 255.],\n",
       "         [255., 255., 255., 255.]],\n",
       " \n",
       "        [[255., 255., 255., 255.],\n",
       "         [255., 255., 255., 255.],\n",
       "         [255., 255., 255., 255.],\n",
       "         ...,\n",
       "         [255., 255., 255., 255.],\n",
       "         [255., 255., 255., 255.],\n",
       "         [255., 255., 255., 255.]],\n",
       " \n",
       "        [[255., 255., 255., 255.],\n",
       "         [255., 255., 255., 255.],\n",
       "         [255., 255., 255., 255.],\n",
       "         ...,\n",
       "         [255., 255., 255., 255.],\n",
       "         [255., 255., 255., 255.],\n",
       "         [255., 255., 255., 255.]]], dtype=float32),\n",
       " 'mesh_meta_dict': {'meta': 1},\n",
       " 'image2d_meta_dict': {'filename_or_obj': PosixPath('/media/Linux_4Tb/synth3d/tablets_30/png/tablets_30_00000.png'),\n",
       "  'spatial_shape': (1024, 1024),\n",
       "  'format': 'PNG',\n",
       "  'mode': 'RGBA',\n",
       "  'width': 1024,\n",
       "  'height': 1024,\n",
       "  'info': {'Software': 'Matplotlib version3.3.2, https://matplotlib.org/',\n",
       "   'dpi': (100, 100)},\n",
       "  'camera': {'projection_matrix': [[1.7320508075688774, 0.0, 0.0, 0.0],\n",
       "    [0.0, 1.7320508075688774, 0.0, 0.0],\n",
       "    [0.0, 0.0, -1.0, -0.1],\n",
       "    [0.0, 0.0, -1.0, 0.0]],\n",
       "   'pos': [[0.5, 0.0, 0.0, 1.0],\n",
       "    [0.0, 0.5, 0.0, 1.0],\n",
       "    [0.0, 0.0, 0.2, 2.0],\n",
       "    [0.0, 0.0, 0.0, 1.0]]}}}"
      ]
     },
     "execution_count": 15,
     "metadata": {},
     "output_type": "execute_result"
    }
   ],
   "source": [
    "# object after transformation\n",
    "o"
   ]
  },
  {
   "cell_type": "code",
   "execution_count": 16,
   "metadata": {},
   "outputs": [
    {
     "data": {
      "text/plain": [
       "<trimesh.Trimesh(vertices.shape=(20540, 3), faces.shape=(41068, 3))>"
      ]
     },
     "execution_count": 16,
     "metadata": {},
     "output_type": "execute_result"
    }
   ],
   "source": [
    "o['mesh'].data"
   ]
  },
  {
   "cell_type": "code",
   "execution_count": 17,
   "metadata": {},
   "outputs": [
    {
     "data": {
      "text/plain": [
       "array([5, 3, 0, ..., 3, 5, 2], dtype=int8)"
      ]
     },
     "execution_count": 17,
     "metadata": {},
     "output_type": "execute_result"
    }
   ],
   "source": [
    "o['mesh'].data.metadata['ply_raw']['vertex']['data']['shape_id']"
   ]
  },
  {
   "cell_type": "code",
   "execution_count": 18,
   "metadata": {},
   "outputs": [
    {
     "data": {
      "text/plain": [
       "array([0, 0, 0, ..., 1, 1, 1], dtype=int8)"
      ]
     },
     "execution_count": 18,
     "metadata": {},
     "output_type": "execute_result"
    }
   ],
   "source": [
    "o['mesh'].data.metadata['ply_raw']['face']['data']['shape_id']"
   ]
  },
  {
   "cell_type": "markdown",
   "metadata": {},
   "source": [
    "### Utils"
   ]
  },
  {
   "cell_type": "code",
   "execution_count": 21,
   "metadata": {},
   "outputs": [],
   "source": [
    "from transforms_templates.transforms.utils import mesh_keys"
   ]
  },
  {
   "cell_type": "code",
   "execution_count": 22,
   "metadata": {},
   "outputs": [
    {
     "data": {
      "text/plain": [
       "['mesh']"
      ]
     },
     "execution_count": 22,
     "metadata": {},
     "output_type": "execute_result"
    }
   ],
   "source": [
    "mesh_keys(o)"
   ]
  },
  {
   "cell_type": "code",
   "execution_count": null,
   "metadata": {},
   "outputs": [],
   "source": []
  }
 ],
 "metadata": {
  "kernelspec": {
   "display_name": "Python 3",
   "language": "python",
   "name": "python3"
  },
  "language_info": {
   "codemirror_mode": {
    "name": "ipython",
    "version": 3
   },
   "file_extension": ".py",
   "mimetype": "text/x-python",
   "name": "python",
   "nbconvert_exporter": "python",
   "pygments_lexer": "ipython3",
   "version": "3.7.5"
  },
  "toc": {
   "base_numbering": 1,
   "nav_menu": {},
   "number_sections": true,
   "sideBar": true,
   "skip_h1_title": false,
   "title_cell": "Table of Contents",
   "title_sidebar": "Contents",
   "toc_cell": false,
   "toc_position": {
    "height": "calc(100% - 180px)",
    "left": "10px",
    "top": "150px",
    "width": "354px"
   },
   "toc_section_display": true,
   "toc_window_display": true
  }
 },
 "nbformat": 4,
 "nbformat_minor": 4
}
